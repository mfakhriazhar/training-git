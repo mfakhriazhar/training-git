{
 "cells": [
  {
   "cell_type": "code",
   "execution_count": 1,
   "id": "8a759c4a-4082-4948-8eb3-5c4a83811858",
   "metadata": {},
   "outputs": [],
   "source": [
    "import pandas as pd\n",
    "import numpy as np"
   ]
  },
  {
   "cell_type": "code",
   "execution_count": 3,
   "id": "7924db58-6954-41bb-bd2b-f19730309b08",
   "metadata": {},
   "outputs": [
    {
     "name": "stdout",
     "output_type": "stream",
     "text": [
      "belajar git clone\n",
      "berhasil melakukan clone dari github\n"
     ]
    }
   ],
   "source": [
    "print('belajar git clone')\n",
    "print('berhasil melakukan clone dari github')"
   ]
  },
  {
   "cell_type": "code",
   "execution_count": null,
   "id": "d6b49f78-65e6-41da-bf1f-c5a3a65d3c4a",
   "metadata": {},
   "outputs": [],
   "source": []
  }
 ],
 "metadata": {
  "kernelspec": {
   "display_name": "Python [conda env:base] *",
   "language": "python",
   "name": "conda-base-py"
  },
  "language_info": {
   "codemirror_mode": {
    "name": "ipython",
    "version": 3
   },
   "file_extension": ".py",
   "mimetype": "text/x-python",
   "name": "python",
   "nbconvert_exporter": "python",
   "pygments_lexer": "ipython3",
   "version": "3.12.3"
  }
 },
 "nbformat": 4,
 "nbformat_minor": 5
}
